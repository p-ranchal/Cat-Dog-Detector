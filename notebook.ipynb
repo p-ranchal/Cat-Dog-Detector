{
  "cells": [
    {
      "cell_type": "markdown",
      "metadata": {
        "id": "view-in-github",
        "colab_type": "text"
      },
      "source": [
        "<a href=\"https://colab.research.google.com/github/p-ranchal/Cat-Dog-Detector/blob/main/notebook.ipynb\" target=\"_parent\"><img src=\"https://colab.research.google.com/assets/colab-badge.svg\" alt=\"Open In Colab\"/></a>"
      ]
    },
    {
      "cell_type": "markdown",
      "source": [
        "#Kaggle Credentials"
      ],
      "metadata": {
        "id": "mVPbHUrHvunh"
      }
    },
    {
      "cell_type": "code",
      "execution_count": null,
      "metadata": {
        "id": "0n9AH_7NuOuG"
      },
      "outputs": [],
      "source": [
        "! pip install -q kaggle\n",
        "from google.colab import files\n",
        "files.upload()"
      ]
    },
    {
      "cell_type": "code",
      "execution_count": 2,
      "metadata": {
        "id": "EWxPbUSDHEtV"
      },
      "outputs": [],
      "source": [
        "! mkdir ~/.kaggle\n",
        "! cp kaggle.json ~/.kaggle/"
      ]
    },
    {
      "cell_type": "code",
      "execution_count": 3,
      "metadata": {
        "id": "I7-OWk8IHtS8"
      },
      "outputs": [],
      "source": [
        "! chmod 600 ~/.kaggle/kaggle.json"
      ]
    },
    {
      "cell_type": "code",
      "execution_count": 4,
      "metadata": {
        "id": "GI0yoSGpIDEn"
      },
      "outputs": [],
      "source": [
        "# ! kaggle datasets list"
      ]
    },
    {
      "cell_type": "markdown",
      "source": [
        "#Download Dataset"
      ],
      "metadata": {
        "id": "Jh9afPPnv2vW"
      }
    },
    {
      "cell_type": "code",
      "execution_count": 5,
      "metadata": {
        "colab": {
          "base_uri": "https://localhost:8080/"
        },
        "id": "Iyf6q6D8IJkY",
        "outputId": "e88d8007-1cbd-47bc-827c-4a3d6f02f04f"
      },
      "outputs": [
        {
          "output_type": "stream",
          "name": "stdout",
          "text": [
            "Downloading cat-and-dog.zip to /content\n",
            " 99% 216M/218M [00:08<00:00, 28.7MB/s]\n",
            "100% 218M/218M [00:08<00:00, 27.4MB/s]\n"
          ]
        }
      ],
      "source": [
        "! kaggle datasets download -d tongpython/cat-and-dog"
      ]
    },
    {
      "cell_type": "code",
      "execution_count": null,
      "metadata": {
        "id": "tAoJW04OJUcZ"
      },
      "outputs": [],
      "source": [
        "!unzip cat-and-dog.zip"
      ]
    },
    {
      "cell_type": "markdown",
      "source": [
        "#Import Dependencies"
      ],
      "metadata": {
        "id": "z2Lubn0Kv7m5"
      }
    },
    {
      "cell_type": "code",
      "execution_count": 35,
      "metadata": {
        "id": "25wsxJBtJzy_"
      },
      "outputs": [],
      "source": [
        "import tensorflow\n",
        "from tensorflow.keras.preprocessing import image\n",
        "from tensorflow.keras.layers import Conv2D, MaxPooling2D, Dropout, Flatten, Dense, BatchNormalization\n",
        "from tensorflow.keras.models import Sequential\n",
        "from tensorflow.keras.optimizers import Adam"
      ]
    },
    {
      "cell_type": "markdown",
      "source": [
        "#Model Architecture"
      ],
      "metadata": {
        "id": "eo90b6wmwAMh"
      }
    },
    {
      "cell_type": "code",
      "execution_count": 43,
      "metadata": {
        "colab": {
          "base_uri": "https://localhost:8080/"
        },
        "id": "H4wffcMQIRJ9",
        "outputId": "81139e83-58dd-4e0c-b000-745436d8beda"
      },
      "outputs": [
        {
          "output_type": "stream",
          "name": "stdout",
          "text": [
            "Model: \"sequential_6\"\n",
            "_________________________________________________________________\n",
            " Layer (type)                Output Shape              Param #   \n",
            "=================================================================\n",
            " conv2d_24 (Conv2D)          (None, 222, 222, 256)     7168      \n",
            "                                                                 \n",
            " batch_normalization_7 (Bat  (None, 222, 222, 256)     1024      \n",
            " chNormalization)                                                \n",
            "                                                                 \n",
            " max_pooling2d_18 (MaxPooli  (None, 111, 111, 256)     0         \n",
            " ng2D)                                                           \n",
            "                                                                 \n",
            " conv2d_25 (Conv2D)          (None, 109, 109, 64)      147520    \n",
            "                                                                 \n",
            " batch_normalization_8 (Bat  (None, 109, 109, 64)      256       \n",
            " chNormalization)                                                \n",
            "                                                                 \n",
            " max_pooling2d_19 (MaxPooli  (None, 54, 54, 64)        0         \n",
            " ng2D)                                                           \n",
            "                                                                 \n",
            " conv2d_26 (Conv2D)          (None, 52, 52, 128)       73856     \n",
            "                                                                 \n",
            " batch_normalization_9 (Bat  (None, 52, 52, 128)       512       \n",
            " chNormalization)                                                \n",
            "                                                                 \n",
            " max_pooling2d_20 (MaxPooli  (None, 26, 26, 128)       0         \n",
            " ng2D)                                                           \n",
            "                                                                 \n",
            " flatten_6 (Flatten)         (None, 86528)             0         \n",
            "                                                                 \n",
            " dense_24 (Dense)            (None, 128)               11075712  \n",
            "                                                                 \n",
            " batch_normalization_10 (Ba  (None, 128)               512       \n",
            " tchNormalization)                                               \n",
            "                                                                 \n",
            " dense_25 (Dense)            (None, 64)                8256      \n",
            "                                                                 \n",
            " batch_normalization_11 (Ba  (None, 64)                256       \n",
            " tchNormalization)                                               \n",
            "                                                                 \n",
            " dense_26 (Dense)            (None, 1)                 65        \n",
            "                                                                 \n",
            "=================================================================\n",
            "Total params: 11315137 (43.16 MB)\n",
            "Trainable params: 11313857 (43.16 MB)\n",
            "Non-trainable params: 1280 (5.00 KB)\n",
            "_________________________________________________________________\n"
          ]
        }
      ],
      "source": [
        "model = Sequential()\n",
        "\n",
        "model.add(Conv2D(256, kernel_size=(3, 3), activation=\"relu\", input_shape=(224, 224, 3)))\n",
        "model.add(BatchNormalization())\n",
        "model.add(MaxPooling2D(pool_size=(2, 2)))\n",
        "# model.add(Dropout(0.25))\n",
        "\n",
        "model.add(Conv2D(64, kernel_size=(3, 3), activation=\"relu\"))\n",
        "model.add(BatchNormalization())\n",
        "model.add(MaxPooling2D(pool_size=(2, 2)))\n",
        "# model.add(Dropout(0.25))\n",
        "\n",
        "model.add(Conv2D(128, kernel_size=(3, 3), activation=\"relu\"))\n",
        "model.add(BatchNormalization())\n",
        "model.add(MaxPooling2D(pool_size=(2, 2)))\n",
        "# model.add(Dropout(0.25))\n",
        "\n",
        "model.add(Flatten())\n",
        "\n",
        "model.add(Dense(128, activation = \"relu\"))\n",
        "model.add(BatchNormalization())\n",
        "# model.add(Dropout(0.5))\n",
        "\n",
        "model.add(Dense(64, activation = \"relu\"))\n",
        "model.add(BatchNormalization())\n",
        "# model.add(Dropout(0.5))\n",
        "\n",
        "model.add(Dense(1, activation=\"sigmoid\"))\n",
        "\n",
        "\n",
        "# Set a learning rate\n",
        "learning_rate = 0.1\n",
        "\n",
        "# Create the optimizer with the desired learning rate\n",
        "adam_optimizer = Adam(learning_rate=learning_rate)\n",
        "\n",
        "model.compile(loss=\"binary_crossentropy\", optimizer=adam_optimizer, metrics=[\"accuracy\"])\n",
        "model.summary()"
      ]
    },
    {
      "cell_type": "markdown",
      "source": [
        "#Setup Data for Training & Validation"
      ],
      "metadata": {
        "id": "P_DI78YYwHBB"
      }
    },
    {
      "cell_type": "code",
      "execution_count": 44,
      "metadata": {
        "id": "5iP6Lt3ZJ65P"
      },
      "outputs": [],
      "source": [
        "train_datagen = image.ImageDataGenerator(rescale=1./255) #, shear_range=0.2, zoom_range=0.2, horizontal_flip=True)\n",
        "test_datagen = image.ImageDataGenerator(rescale = 1./255)"
      ]
    },
    {
      "cell_type": "code",
      "execution_count": 45,
      "metadata": {
        "colab": {
          "base_uri": "https://localhost:8080/"
        },
        "id": "IR_-13efJ9Ei",
        "outputId": "9f03a5af-d3b3-4108-8831-e3dcb4209785"
      },
      "outputs": [
        {
          "output_type": "stream",
          "name": "stdout",
          "text": [
            "Found 8005 images belonging to 2 classes.\n",
            "Found 2023 images belonging to 2 classes.\n"
          ]
        }
      ],
      "source": [
        "train_generator = train_datagen.flow_from_directory('training_set/training_set/', target_size=(224, 224), batch_size=32, class_mode=\"binary\")\n",
        "val_generator = test_datagen.flow_from_directory('test_set/test_set/', target_size=(224, 224), batch_size=32, class_mode=\"binary\")"
      ]
    },
    {
      "cell_type": "markdown",
      "source": [
        "#Train Model"
      ],
      "metadata": {
        "id": "wwlUVD2UwTId"
      }
    },
    {
      "cell_type": "code",
      "execution_count": 46,
      "metadata": {
        "colab": {
          "base_uri": "https://localhost:8080/"
        },
        "id": "a5-z6DxEI7MZ",
        "outputId": "2b40f5dc-3344-442c-9684-5f6003171d47"
      },
      "outputs": [
        {
          "output_type": "stream",
          "name": "stdout",
          "text": [
            "Epoch 1/10\n",
            "251/251 [==============================] - 32s 112ms/step - loss: 0.7155 - accuracy: 0.5335 - val_loss: 2.5996 - val_accuracy: 0.5334\n",
            "Epoch 2/10\n",
            "251/251 [==============================] - 28s 109ms/step - loss: 0.6570 - accuracy: 0.6166 - val_loss: 7.8008 - val_accuracy: 0.4993\n",
            "Epoch 3/10\n",
            "251/251 [==============================] - 27s 109ms/step - loss: 0.6623 - accuracy: 0.6160 - val_loss: 0.6518 - val_accuracy: 0.6367\n",
            "Epoch 4/10\n",
            "251/251 [==============================] - 28s 109ms/step - loss: 0.6343 - accuracy: 0.6458 - val_loss: 1.8209 - val_accuracy: 0.6070\n",
            "Epoch 5/10\n",
            "251/251 [==============================] - 28s 110ms/step - loss: 0.6455 - accuracy: 0.6279 - val_loss: 1.4041 - val_accuracy: 0.5057\n",
            "Epoch 6/10\n",
            "251/251 [==============================] - 27s 109ms/step - loss: 0.6796 - accuracy: 0.5961 - val_loss: 1.2968 - val_accuracy: 0.5368\n",
            "Epoch 7/10\n",
            "251/251 [==============================] - 27s 109ms/step - loss: 0.6324 - accuracy: 0.6392 - val_loss: 0.6577 - val_accuracy: 0.6248\n",
            "Epoch 8/10\n",
            "251/251 [==============================] - 28s 110ms/step - loss: 0.6133 - accuracy: 0.6688 - val_loss: 1.2953 - val_accuracy: 0.6451\n",
            "Epoch 9/10\n",
            "251/251 [==============================] - 27s 109ms/step - loss: 0.5838 - accuracy: 0.6941 - val_loss: 1.2177 - val_accuracy: 0.5096\n",
            "Epoch 10/10\n",
            "251/251 [==============================] - 28s 110ms/step - loss: 0.5537 - accuracy: 0.7254 - val_loss: 1.6512 - val_accuracy: 0.6985\n"
          ]
        }
      ],
      "source": [
        "hist = model.fit(train_generator, epochs=10, validation_data=val_generator)"
      ]
    },
    {
      "cell_type": "code",
      "source": [],
      "metadata": {
        "id": "--g_NeruUHYp"
      },
      "execution_count": null,
      "outputs": []
    }
  ],
  "metadata": {
    "accelerator": "GPU",
    "colab": {
      "machine_shape": "hm",
      "provenance": [],
      "gpuType": "V100",
      "authorship_tag": "ABX9TyOf2ef6tM0oULu63dRzWnI+",
      "include_colab_link": true
    },
    "kernelspec": {
      "display_name": "Python 3",
      "name": "python3"
    },
    "language_info": {
      "name": "python"
    }
  },
  "nbformat": 4,
  "nbformat_minor": 0
}